{
  "cells": [
    {
      "cell_type": "code",
      "execution_count": 1,
      "metadata": {},
      "outputs": [
        {
          "name": "stdout",
          "output_type": "stream",
          "text": [
            "Requirement already satisfied: imutils in c:\\users\\s-sin\\appdata\\local\\programs\\pythoncodingpack\\lib\\site-packages (0.5.4)\n"
          ]
        },
        {
          "name": "stderr",
          "output_type": "stream",
          "text": [
            "WARNING: Ignoring invalid distribution -rotobuf (c:\\users\\s-sin\\appdata\\local\\programs\\pythoncodingpack\\lib\\site-packages)\n",
            "WARNING: Ignoring invalid distribution -ensorflow-gpu (c:\\users\\s-sin\\appdata\\local\\programs\\pythoncodingpack\\lib\\site-packages)\n",
            "WARNING: Ignoring invalid distribution -rotobuf (c:\\users\\s-sin\\appdata\\local\\programs\\pythoncodingpack\\lib\\site-packages)\n",
            "WARNING: Ignoring invalid distribution -ensorflow-gpu (c:\\users\\s-sin\\appdata\\local\\programs\\pythoncodingpack\\lib\\site-packages)\n",
            "WARNING: Ignoring invalid distribution -rotobuf (c:\\users\\s-sin\\appdata\\local\\programs\\pythoncodingpack\\lib\\site-packages)\n",
            "WARNING: Ignoring invalid distribution -ensorflow-gpu (c:\\users\\s-sin\\appdata\\local\\programs\\pythoncodingpack\\lib\\site-packages)\n",
            "WARNING: Ignoring invalid distribution -rotobuf (c:\\users\\s-sin\\appdata\\local\\programs\\pythoncodingpack\\lib\\site-packages)\n",
            "WARNING: Ignoring invalid distribution -ensorflow-gpu (c:\\users\\s-sin\\appdata\\local\\programs\\pythoncodingpack\\lib\\site-packages)\n",
            "WARNING: Ignoring invalid distribution -rotobuf (c:\\users\\s-sin\\appdata\\local\\programs\\pythoncodingpack\\lib\\site-packages)\n",
            "WARNING: Ignoring invalid distribution -ensorflow-gpu (c:\\users\\s-sin\\appdata\\local\\programs\\pythoncodingpack\\lib\\site-packages)\n",
            "WARNING: Ignoring invalid distribution -rotobuf (c:\\users\\s-sin\\appdata\\local\\programs\\pythoncodingpack\\lib\\site-packages)\n",
            "WARNING: Ignoring invalid distribution -ensorflow-gpu (c:\\users\\s-sin\\appdata\\local\\programs\\pythoncodingpack\\lib\\site-packages)\n",
            "\n",
            "[notice] A new release of pip is available: 23.0.1 -> 23.1.2\n",
            "[notice] To update, run: python.exe -m pip install --upgrade pip\n"
          ]
        }
      ],
      "source": [
        "!pip install imutils"
      ]
    },
    {
      "cell_type": "code",
      "execution_count": 2,
      "metadata": {
        "id": "e_GHKGw0W1xU"
      },
      "outputs": [],
      "source": [
        "MIN_CONF = 0.3\n",
        "NMS_THRESH = 0.3\n",
        "MIN_DISTANCE = 50"
      ]
    },
    {
      "cell_type": "code",
      "execution_count": 3,
      "metadata": {
        "id": "VfM7RC_hXDIl"
      },
      "outputs": [],
      "source": [
        "import numpy as np\n",
        "import cv2\n",
        "\n",
        "def detect_people(frame,net,ln,personIdx=0):\n",
        "  (H,W) = frame.shape[:2]\n",
        "  results = []\n",
        "  blob = cv2.dnn.blobFromImage(frame,1/255.0,(416,416),swapRB=True,crop=False)\n",
        "  layerOutputs = net.forward(ln)\n",
        "  boxes=[]\n",
        "  centroids=[]\n",
        "  confidences=[]\n",
        "  for output in layerOutputs:\n",
        "    for detection in output:\n",
        "      scores = detection[5:]\n",
        "      classID = np.argmax(scores)\n",
        "      confidence = scores[classID]\n",
        "      if classID == personIdx and confidence>MIN_CONF:\n",
        "        box = detection[0:4]*np.array([W,H,W,H])\n",
        "        (centerX,centerY,width,height) = box.astype(\"int\")\n",
        "        x = int(centerX - (width/2))\n",
        "        y = int(centerY - (height/2))\n",
        "        boxes.apppend([x,y,int(width),int(height)])\n",
        "        centroids.append((centerX,centerY))\n",
        "        confidences.append(float(confidence))\n",
        "  idxs = cv2.dnn.NMSBoxes(boxes,confidences,MIN_CONF,NMS_THRESH)\n",
        "  if len(idxs)>0:\n",
        "    for i in idxs.flatten():\n",
        "      (x,y) = (boxes[i][0],boxes[i][1])\n",
        "      (w,h) = (boxes[i][2],boxes[i][3])\n",
        "      r = (confidences[i],(x,y,x+w,y+h),centroids[i])\n",
        "      results.append(r)\n",
        "  return results"
      ]
    },
    {
      "cell_type": "code",
      "execution_count": 5,
      "metadata": {
        "id": "z6Ep8B4raQUz"
      },
      "outputs": [
        {
          "name": "stdout",
          "output_type": "stream",
          "text": [
            "[INFO] loading YOLO from disk...\n",
            "[INFO] accessing video stream...\n"
          ]
        }
      ],
      "source": [
        "from scipy.spatial import distance as dist\n",
        "import argparse\n",
        "import imutils \n",
        "import os\n",
        "\n",
        "\n",
        "# construct the argument parse and parse the arguments\n",
        "ap = argparse.ArgumentParser()\n",
        "ap.add_argument(\"-i\", \"--input\", type=str, default=\"\",\n",
        "\thelp=\"path to (optional) input video file\")\n",
        "ap.add_argument(\"-o\", \"--output\", type=str, default=\"\",\n",
        "\thelp=\"path to (optional) output video file\")\n",
        "ap.add_argument(\"-d\", \"--display\", type=int, default=1,\n",
        "\thelp=\"whether or not output frame should be displayed\")\n",
        "args = vars(ap.parse_args([\"--input\",\"C:\\Kavach\\ML\\Crowd Detection\\pedestrants.mp4\",\"--output\",\"my_output.avi\",\"--display\",'1']))\n",
        "\n",
        "# load the COCO class labels our YOLO model was trained on\n",
        "labelsPath = os.path.sep.join([\"C:\\Kavach\\ML\\Crowd Detection\\yolo-coco\\coco.names\"])\n",
        "LABELS = open(labelsPath).read().strip().split(\"\\n\")\n",
        "\n",
        "# derive the paths to the YOLO weights and model configuration\n",
        "weightsPath = os.path.sep.join([\"C:\\Kavach\\ML\\Crowd Detection\\yolo-coco\\yolov3.weights\"])\n",
        "configPath = os.path.sep.join([\"C:\\Kavach\\ML\\Crowd Detection\\yolo-coco\\yolov3.cfg\"])\n",
        "\n",
        "# load our YOLO object detector trained on COCO dataset (80 classes)\n",
        "print(\"[INFO] loading YOLO from disk...\")\n",
        "net = cv2.dnn.readNetFromDarknet(configPath, weightsPath)\n",
        "\n",
        "# # check if we are going to use GPU\n",
        "# if config.USE_GPU:\n",
        "# \t# set CUDA as the preferable backend and target\n",
        "# \tprint(\"[INFO] setting preferable backend and target to CUDA...\")\n",
        "# \tnet.setPreferableBackend(cv2.dnn.DNN_BACKEND_CUDA)\n",
        "# \tnet.setPreferableTarget(cv2.dnn.DNN_TARGET_CUDA)\n",
        "\n",
        "# determine only the *output* layer names that we need from YOLO\n",
        "ln = net.getLayerNames()\n",
        "ln = [ln[i[0] - 1] for i in net.getUnconnectedOutLayers()]\n",
        "\n",
        "# initialize the video stream and pointer to output video file\n",
        "print(\"[INFO] accessing video stream...\")\n",
        "vs = cv2.VideoCapture(args[\"input\"] if args[\"input\"] else 0)\n",
        "writer = None\n",
        "\n",
        "# loop over the frames from the video stream\n",
        "while True:\n",
        "\t# read the next frame from the file\n",
        "\t(grabbed, frame) = vs.read()\n",
        "\n",
        "\t# if the frame was not grabbed, then we have reached the end\n",
        "\t# of the stream\n",
        "\tif not grabbed:\n",
        "\t\tbreak\n",
        "\n",
        "\t# resize the frame and then detect people (and only people) in it\n",
        "\tframe = imutils.resize(frame, width=700)\n",
        "\tresults = detect_people(frame, net, ln,\n",
        "\t\tpersonIdx=LABELS.index(\"person\"))\n",
        "\n",
        "\t# initialize the set of indexes that violate the minimum social\n",
        "\t# distance\n",
        "\tviolate = set()\n",
        "\n",
        "\t# ensure there are *at least* two people detections (required in\n",
        "\t# order to compute our pairwise distance maps)\n",
        "\tif len(results) >= 2:\n",
        "\t\t# extract all centroids from the results and compute the\n",
        "\t\t# Euclidean distances between all pairs of the centroids\n",
        "\t\tcentroids = np.array([r[2] for r in results])\n",
        "\t\tD = dist.cdist(centroids, centroids, metric=\"euclidean\")\n",
        "\n",
        "\t\t# loop over the upper triangular of the distance matrix\n",
        "\t\tfor i in range(0, D.shape[0]):\n",
        "\t\t\tfor j in range(i + 1, D.shape[1]):\n",
        "\t\t\t\t# check to see if the distance between any two\n",
        "\t\t\t\t# centroid pairs is less than the configured number\n",
        "\t\t\t\t# of pixels\n",
        "\t\t\t\tif D[i, j] < MIN_DISTANCE:\n",
        "\t\t\t\t\t# update our violation set with the indexes of\n",
        "\t\t\t\t\t# the centroid pairs\n",
        "\t\t\t\t\tviolate.add(i)\n",
        "\t\t\t\t\tviolate.add(j)\n",
        "\n",
        "\t# loop over the results\n",
        "\tfor (i, (prob, bbox, centroid)) in enumerate(results):\n",
        "\t\t# extract the bounding box and centroid coordinates, then\n",
        "\t\t# initialize the color of the annotation\n",
        "\t\t(startX, startY, endX, endY) = bbox\n",
        "\t\t(cX, cY) = centroid\n",
        "\t\tcolor = (0, 255, 0)\n",
        "\n",
        "\t\t# if the index pair exists within the violation set, then\n",
        "\t\t# update the color\n",
        "\t\tif i in violate:\n",
        "\t\t\tcolor = (0, 0, 255)\n",
        "\n",
        "\t\t# draw (1) a bounding box around the person and (2) the\n",
        "\t\t# centroid coordinates of the person,\n",
        "\t\tcv2.rectangle(frame, (startX, startY), (endX, endY), color, 2)\n",
        "\t\tcv2.circle(frame, (cX, cY), 5, color, 1)\n",
        "\n",
        "\t# draw the total number of social distancing violations on the\n",
        "\t# output frame\n",
        "\ttext = \"Social Distancing Violations: {}\".format(len(violate))\n",
        "\tcv2.putText(frame, text, (10, frame.shape[0] - 25),\n",
        "\t\tcv2.FONT_HERSHEY_SIMPLEX, 0.85, (0, 0, 255), 3)\n",
        "\n",
        "\t# check to see if the output frame should be displayed to our\n",
        "\t# screen\n",
        "\tif args[\"display\"] > 0:\n",
        "\t\t# show the output frame\n",
        "\t\tcv2.imshow(\"Frame\", frame)\n",
        "\t\tkey = cv2.waitKey(1) & 0xFF\n",
        "\n",
        "\t\t# if the `q` key was pressed, break from the loop\n",
        "\t\tif key == ord(\"q\"):\n",
        "\t\t\tbreak\n",
        "\n",
        "\t# if an output video file path has been supplied and the video\n",
        "\t# writer has not been initialized, do so now\n",
        "\tif args[\"output\"] != \"\" and writer is None:\n",
        "\t\t# initialize our video writer\n",
        "\t\tfourcc = cv2.VideoWriter_fourcc(*\"MJPG\")\n",
        "\t\twriter = cv2.VideoWriter(args[\"output\"], fourcc, 25,\n",
        "\t\t\t(frame.shape[1], frame.shape[0]), True)\n",
        "\n",
        "\t# if the video writer is not None, write the frame to the output\n",
        "\t# video file\n",
        "\tif writer is not None:\n",
        "\t\twriter.write(frame)"
      ]
    },
    {
      "cell_type": "code",
      "execution_count": null,
      "metadata": {
        "id": "xcXi70N6afkW"
      },
      "outputs": [],
      "source": []
    }
  ],
  "metadata": {
    "accelerator": "GPU",
    "colab": {
      "gpuType": "T4",
      "provenance": []
    },
    "gpuClass": "standard",
    "kernelspec": {
      "display_name": "Python 3",
      "name": "python3"
    },
    "language_info": {
      "codemirror_mode": {
        "name": "ipython",
        "version": 3
      },
      "file_extension": ".py",
      "mimetype": "text/x-python",
      "name": "python",
      "nbconvert_exporter": "python",
      "pygments_lexer": "ipython3",
      "version": "3.8.5"
    }
  },
  "nbformat": 4,
  "nbformat_minor": 0
}
